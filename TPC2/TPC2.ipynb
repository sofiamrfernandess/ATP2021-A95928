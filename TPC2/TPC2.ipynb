{
 "cells": [
  {
   "cell_type": "code",
   "execution_count": null,
   "metadata": {},
   "outputs": [],
   "source": [
    "def procnum(inf,sup):\n",
    "    contador=(int(inf)+int(sup))//2\n",
    "    return contador\n",
    "\n",
    "def procnum2():\n",
    "    s=1\n",
    "    inf=0\n",
    "    sup=101\n",
    "    print(\"Escolha um número!\")\n",
    "    while(s==1):           \n",
    "        n=procnum(inf,sup)\n",
    "        if(sup-inf==2):\n",
    "            print(\"O seu número é:\", n)\n",
    "            s=0\n",
    "            \n",
    "        else:\n",
    "            print(\"O número é menor, igual, ou maior? \", n)\n",
    "            r=input(\" \")    \n",
    "            if(r.upper()==\"MAIOR\"):\n",
    "                inf=n\n",
    "            elif(r.upper()==\"MENOR\"):\n",
    "                if(n==1):\n",
    "                    print(\"Operação impossível\")\n",
    "                    s=0\n",
    "                else:\n",
    "                    sup=n\n",
    "            elif(r.upper()==\"IGUAL\"):\n",
    "                print(\"O seu número é: \", n)\n",
    "                s=0\n",
    "                \n",
    "procnum2()"
   ]
  },
  {
   "cell_type": "code",
   "execution_count": null,
   "metadata": {},
   "outputs": [],
   "source": []
  }
 ],
 "metadata": {
  "kernelspec": {
   "display_name": "Python 3",
   "language": "python",
   "name": "python3"
  },
  "language_info": {
   "codemirror_mode": {
    "name": "ipython",
    "version": 3
   },
   "file_extension": ".py",
   "mimetype": "text/x-python",
   "name": "python",
   "nbconvert_exporter": "python",
   "pygments_lexer": "ipython3",
   "version": "3.8.3"
  }
 },
 "nbformat": 4,
 "nbformat_minor": 4
}
