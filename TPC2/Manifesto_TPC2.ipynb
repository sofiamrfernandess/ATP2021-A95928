{
 "cells": [
  {
   "cell_type": "markdown",
   "metadata": {},
   "source": [
    "# Manifesto TPC2\n"
   ]
  },
  {
   "cell_type": "markdown",
   "metadata": {},
   "source": [
    "* **Autor:** Sofia Marques Ribas Fernandes A95928\n",
    "* **Indentificador:** TPC2\n",
    "* **Título:** Adivinha o número!\n",
    "* **Supervisor:** José Carlos Ramalho, www.di.uminho.pt/~jcr/\n",
    "* **Data de inicio:** 2021-10-14\n",
    "* **Data de fim:** 2021-10-19\n"
   ]
  },
  {
   "cell_type": "markdown",
   "metadata": {},
   "source": [
    "## Resumo:\n"
   ]
  },
  {
   "cell_type": "markdown",
   "metadata": {},
   "source": [
    "O TPC2 é um jogo, **\"Adivinha o número\"** desenvolvido num algoritmo python. O jogo consiste em o jogador pensar num número de 1 a 100 e o computador tem de adivinhar qual é o número escolhido, no menor número de jogadas possível.\n",
    "\n",
    "Para tal, primeiro criamos uma função com uma variável que vai calcular através da divisão inteira o meio do intervalo (do intervalo usamos o número inferior e o número superior dados em cada jogada).\n",
    "\n",
    "No passo seguinte, criamos uma nova função. Esta é iniciada com três variáveis: uma que dita o menor valor do intervalo (zero), outra que dita o maior valor do intervalo (cem), e por fim, uma outra a variável 's' que serve para dar continuidade à função, ou para a parar. Chama-mos ainda \"n\" à variável que tomará o valor do input que pergunta se o número que o jogador pensou é o número do meio do intervalo.\n",
    "\n",
    "Surgindo, assim, três opções das quais o jogador deve de selecionar uma:\n",
    "* O valor dado pelo computador é maior que o número pensado pelo jogador. - (Neste caso, a variável inicio tomará o valor do ponto médio do intervalo dessa jogada, tornando-se o limite superior do intervalo);\n",
    "* O valor dado pelo computador é igual ao número pensado pelo jogador. - (O jogo acaba uma vez que foi descoberto o número pensado pelo jogador);\n",
    "* O valor dado pelo computador é menor que o número pensado pelo jogador. - (Neste caso, a variável fim tomará o valor do ponto médio do intervalo dessa jogada, tornando-se o limite inferior do intervalo).\n",
    "Estas opções continuaram a surgir até ser descoberto o número pensado pelo jogador (é finalmente quebrado o ciclo).\n",
    "\n",
    "Existe uma particularidadde que é: se o jogador selecionar a opção \"menor\" após o número proposto pelo computador ser \"um\", o jogo pára, uma vez, que é uma jogada impossível (o menor número do intervalo do jogo é 1).\n",
    "\n",
    "\n",
    "\n"
   ]
  },
  {
   "cell_type": "code",
   "execution_count": null,
   "metadata": {},
   "outputs": [],
   "source": []
  }
 ],
 "metadata": {
  "kernelspec": {
   "display_name": "Python 3",
   "language": "python",
   "name": "python3"
  },
  "language_info": {
   "codemirror_mode": {
    "name": "ipython",
    "version": 3
   },
   "file_extension": ".py",
   "mimetype": "text/x-python",
   "name": "python",
   "nbconvert_exporter": "python",
   "pygments_lexer": "ipython3",
   "version": "3.8.3"
  }
 },
 "nbformat": 4,
 "nbformat_minor": 4
}
