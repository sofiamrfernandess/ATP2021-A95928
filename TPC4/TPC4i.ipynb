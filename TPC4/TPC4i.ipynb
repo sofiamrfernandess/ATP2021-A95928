{
 "cells": [
  {
   "cell_type": "code",
   "execution_count": 1,
   "metadata": {},
   "outputs": [],
   "source": [
    "import random \n",
    "\n",
    "def  criarFracao(numerador,denominador):\n",
    "    return (numerador,denominador)\n",
    "\n",
    "def verFracao(f):\n",
    "    n, d=f\n",
    "    print(str(int(n)) + \"/\" + str(int(d)))\n",
    "    \n",
    "    "
   ]
  },
  {
   "cell_type": "code",
   "execution_count": 2,
   "metadata": {},
   "outputs": [],
   "source": [
    "def maximodivisorcomum(a,b):\n",
    "    if a<b:\n",
    "        return maximodivisorcomum(b,a)\n",
    "    elif a%b==0:\n",
    "        return b\n",
    "    else:\n",
    "        return maximodivisorcomum(a,a%b)\n",
    "    \n",
    "def simplificarFracao(f):\n",
    "    num,denom=f\n",
    "    a=maximodivisorcomum(num,denom)\n",
    "    return (num/a,denom/a)\n",
    "    \n",
    "def somaFracao(f1,f2):\n",
    "    a=(f1[0]*f2[1]+f2[0]*f1[1],f1[1]*f2[1])\n",
    "    return simplificarFracao(a)\n",
    "\n",
    "def subtrairFracao(f1,f2):\n",
    "    a=(f1[0]*f2[1]-f2[0]*f1[1],f1[1]*f2[1])\n",
    "    return simplificarFracao(a)\n",
    "\n",
    "def multiplicarFracao(f1,f2):\n",
    "    a=(f1[0]*f2[0],f1[1]*f2[1])\n",
    "    return simplificarFracao(a)\n",
    "\n",
    "def dividirFracao(f1,f2):\n",
    "    a=(f1[0]*f2[1],f1[1]*f2[0])\n",
    "    return simplificarFracao(a)\n",
    "\n",
    "def randomFracao(n):\n",
    "    l=[]\n",
    "    for i in range(n):\n",
    "        numerador=random.randint(1,10)\n",
    "        denominador=random.randint(1,10)\n",
    "        f=(numerador,denominador)\n",
    "        l.append(f)\n",
    "    return l\n",
    "    "
   ]
  },
  {
   "cell_type": "code",
   "execution_count": 3,
   "metadata": {
    "scrolled": false
   },
   "outputs": [
    {
     "name": "stdout",
     "output_type": "stream",
     "text": [
      "\n",
      "Frações e suas operações:\n",
      "1) Somar Frações\n",
      "2) Subtrair Frações\n",
      "3) Multiplicar Frações\n",
      "4) Dividir Frações\n",
      "5)Gerar lista de n Frações\n",
      "0) Sair\n"
     ]
    },
    {
     "ename": "KeyboardInterrupt",
     "evalue": "Interrupted by user",
     "output_type": "error",
     "traceback": [
      "\u001b[0;31m---------------------------------------------------------------------------\u001b[0m",
      "\u001b[0;31mKeyboardInterrupt\u001b[0m                         Traceback (most recent call last)",
      "\u001b[0;32m<ipython-input-3-dd95825a5aaf>\u001b[0m in \u001b[0;36m<module>\u001b[0;34m\u001b[0m\n\u001b[1;32m     13\u001b[0m \u001b[0;32mwhile\u001b[0m \u001b[0mopcao\u001b[0m\u001b[0;34m!=\u001b[0m\u001b[0;34m\"0\"\u001b[0m\u001b[0;34m:\u001b[0m\u001b[0;34m\u001b[0m\u001b[0;34m\u001b[0m\u001b[0m\n\u001b[1;32m     14\u001b[0m     \u001b[0mmenu\u001b[0m\u001b[0;34m(\u001b[0m\u001b[0;34m)\u001b[0m\u001b[0;34m\u001b[0m\u001b[0;34m\u001b[0m\u001b[0m\n\u001b[0;32m---> 15\u001b[0;31m     \u001b[0mopcao\u001b[0m\u001b[0;34m=\u001b[0m\u001b[0minput\u001b[0m\u001b[0;34m(\u001b[0m\u001b[0;34m\"Qual a sua opção?\"\u001b[0m\u001b[0;34m)\u001b[0m\u001b[0;34m\u001b[0m\u001b[0;34m\u001b[0m\u001b[0m\n\u001b[0m\u001b[1;32m     16\u001b[0m \u001b[0;34m\u001b[0m\u001b[0m\n\u001b[1;32m     17\u001b[0m     \u001b[0;32mif\u001b[0m \u001b[0mopcao\u001b[0m\u001b[0;34m==\u001b[0m\u001b[0;34m\"1\"\u001b[0m\u001b[0;34m:\u001b[0m\u001b[0;34m\u001b[0m\u001b[0;34m\u001b[0m\u001b[0m\n",
      "\u001b[0;32m~/opt/anaconda3/lib/python3.8/site-packages/ipykernel/kernelbase.py\u001b[0m in \u001b[0;36mraw_input\u001b[0;34m(self, prompt)\u001b[0m\n\u001b[1;32m    858\u001b[0m                 \u001b[0;34m\"raw_input was called, but this frontend does not support input requests.\"\u001b[0m\u001b[0;34m\u001b[0m\u001b[0;34m\u001b[0m\u001b[0m\n\u001b[1;32m    859\u001b[0m             )\n\u001b[0;32m--> 860\u001b[0;31m         return self._input_request(str(prompt),\n\u001b[0m\u001b[1;32m    861\u001b[0m             \u001b[0mself\u001b[0m\u001b[0;34m.\u001b[0m\u001b[0m_parent_ident\u001b[0m\u001b[0;34m,\u001b[0m\u001b[0;34m\u001b[0m\u001b[0;34m\u001b[0m\u001b[0m\n\u001b[1;32m    862\u001b[0m             \u001b[0mself\u001b[0m\u001b[0;34m.\u001b[0m\u001b[0m_parent_header\u001b[0m\u001b[0;34m,\u001b[0m\u001b[0;34m\u001b[0m\u001b[0;34m\u001b[0m\u001b[0m\n",
      "\u001b[0;32m~/opt/anaconda3/lib/python3.8/site-packages/ipykernel/kernelbase.py\u001b[0m in \u001b[0;36m_input_request\u001b[0;34m(self, prompt, ident, parent, password)\u001b[0m\n\u001b[1;32m    902\u001b[0m             \u001b[0;32mexcept\u001b[0m \u001b[0mKeyboardInterrupt\u001b[0m\u001b[0;34m:\u001b[0m\u001b[0;34m\u001b[0m\u001b[0;34m\u001b[0m\u001b[0m\n\u001b[1;32m    903\u001b[0m                 \u001b[0;31m# re-raise KeyboardInterrupt, to truncate traceback\u001b[0m\u001b[0;34m\u001b[0m\u001b[0;34m\u001b[0m\u001b[0;34m\u001b[0m\u001b[0m\n\u001b[0;32m--> 904\u001b[0;31m                 \u001b[0;32mraise\u001b[0m \u001b[0mKeyboardInterrupt\u001b[0m\u001b[0;34m(\u001b[0m\u001b[0;34m\"Interrupted by user\"\u001b[0m\u001b[0;34m)\u001b[0m \u001b[0;32mfrom\u001b[0m \u001b[0;32mNone\u001b[0m\u001b[0;34m\u001b[0m\u001b[0;34m\u001b[0m\u001b[0m\n\u001b[0m\u001b[1;32m    905\u001b[0m             \u001b[0;32mexcept\u001b[0m \u001b[0mException\u001b[0m \u001b[0;32mas\u001b[0m \u001b[0me\u001b[0m\u001b[0;34m:\u001b[0m\u001b[0;34m\u001b[0m\u001b[0;34m\u001b[0m\u001b[0m\n\u001b[1;32m    906\u001b[0m                 \u001b[0mself\u001b[0m\u001b[0;34m.\u001b[0m\u001b[0mlog\u001b[0m\u001b[0;34m.\u001b[0m\u001b[0mwarning\u001b[0m\u001b[0;34m(\u001b[0m\u001b[0;34m\"Invalid Message:\"\u001b[0m\u001b[0;34m,\u001b[0m \u001b[0mexc_info\u001b[0m\u001b[0;34m=\u001b[0m\u001b[0;32mTrue\u001b[0m\u001b[0;34m)\u001b[0m\u001b[0;34m\u001b[0m\u001b[0;34m\u001b[0m\u001b[0m\n",
      "\u001b[0;31mKeyboardInterrupt\u001b[0m: Interrupted by user"
     ]
    }
   ],
   "source": [
    "def menu():\n",
    "    print(\"\"\"\n",
    "Frações e suas operações:\n",
    "1) Somar Frações\n",
    "2) Subtrair Frações\n",
    "3) Multiplicar Frações\n",
    "4) Dividir Frações\n",
    "5)Gerar lista de n Frações\n",
    "0) Sair\"\"\")\n",
    "\n",
    "\n",
    "opcao=\"1\"\n",
    "while opcao!=\"0\":\n",
    "    menu()\n",
    "    opcao=input(\"Qual a sua opção?\")\n",
    "   \n",
    "    if opcao==\"1\":\n",
    "        numerador=int(input(\"Diga o numerador:\"))\n",
    "        denominador=int(input(\"Diga o denominador:\"))\n",
    "        f1=criarFracao(numerador, denominador)\n",
    "        numerador2=int(input(\"Diga o numerador:\"))\n",
    "        denominador2=int(input(\"Diga o denominador:\"))\n",
    "        f2=criarFracao(numerador2, denominador2)\n",
    "        verFracao(somaFracao(f1,f2)) \n",
    "        \n",
    "    elif opcao==\"2\":\n",
    "        numerador=int(input(\"Diga o numerador:\"))\n",
    "        denominador=int(input(\"Diga o denominador:\"))\n",
    "        f1=criarFracao(numerador, denominador)\n",
    "        numerador2=int(input(\"Diga o numerador:\"))\n",
    "        denominador2=int(input(\"Diga o denominador:\"))\n",
    "        f2=criarFracao(numerador2, denominador2)\n",
    "        verFracao(subtrairFracao(f1,f2))\n",
    "        \n",
    "    elif opcao==\"3\":\n",
    "        numerador=int(input(\"Diga o numerador:\"))\n",
    "        denominador=int(input(\"Diga o denominador:\"))\n",
    "        f1=criarFracao(numerador, denominador)\n",
    "        numerador2=int(input(\"Diga o numerador:\"))\n",
    "        denominador2=int(input(\"Diga o denominador:\"))\n",
    "        f2=criarFracao(numerador2, denominador2)\n",
    "        verFracao(multiplicarFracao(f1,f2))\n",
    "        \n",
    "    elif opcao==\"4\":\n",
    "        numerador=int(input(\"Diga o numerador:\"))\n",
    "        denominador=int(input(\"Diga o denominador:\"))\n",
    "        f1=criarFracao(numerador, denominador)\n",
    "        numerador2=int(input(\"Diga o numerador:\"))\n",
    "        denominador2=int(input(\"Diga o denominador:\"))\n",
    "        f2=criarFracao(numerador2, denominador2)\n",
    "        verFracao(dividirFracao(f1,f2))\n",
    "        \n",
    "    elif opcao==\"5\":\n",
    "        n=int(input(\"Numero de frações:\"))\n",
    "        l=randomFracao(n)\n",
    "        for j in range(len(l)):\n",
    "            verFracao(l[j])\n",
    "       \n",
    "    else:\n",
    "        print(\"Opção inválida\")"
   ]
  },
  {
   "cell_type": "code",
   "execution_count": null,
   "metadata": {},
   "outputs": [],
   "source": []
  }
 ],
 "metadata": {
  "kernelspec": {
   "display_name": "Python 3",
   "language": "python",
   "name": "python3"
  },
  "language_info": {
   "codemirror_mode": {
    "name": "ipython",
    "version": 3
   },
   "file_extension": ".py",
   "mimetype": "text/x-python",
   "name": "python",
   "nbconvert_exporter": "python",
   "pygments_lexer": "ipython3",
   "version": "3.8.3"
  }
 },
 "nbformat": 4,
 "nbformat_minor": 4
}
