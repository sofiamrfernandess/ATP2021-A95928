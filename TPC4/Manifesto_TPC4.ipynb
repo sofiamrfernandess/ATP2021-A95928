{
 "cells": [
  {
   "cell_type": "markdown",
   "metadata": {},
   "source": [
    "# Manifesto TPC4\n",
    "\n",
    "* **Autor**: Sofia Marques Ribas Fernandes A95928\n",
    "* **Indentificador**: TPC2\n",
    "* **Título**: Adivinha o número!\n",
    "* **Supervisor**: José Carlos Ramalho, www.di.uminho.pt/~jcr/\n",
    "* **Data de inicio**: 2021-10-21\n",
    "* **Data de fim**: 2021-10-25"
   ]
  },
  {
   "cell_type": "markdown",
   "metadata": {},
   "source": [
    "## Resumo:\n",
    "\n"
   ]
  },
  {
   "cell_type": "markdown",
   "metadata": {},
   "source": [
    "Com este programa conseguimos somar, subtrair, multiplicar e dividir duas funções criadas de forma manual. Que são simplificadas usando o máximo divisor comum. Podemos ainda criar n funções de forma completamente aleatória. "
   ]
  }
 ],
 "metadata": {
  "kernelspec": {
   "display_name": "Python 3",
   "language": "python",
   "name": "python3"
  },
  "language_info": {
   "codemirror_mode": {
    "name": "ipython",
    "version": 3
   },
   "file_extension": ".py",
   "mimetype": "text/x-python",
   "name": "python",
   "nbconvert_exporter": "python",
   "pygments_lexer": "ipython3",
   "version": "3.8.3"
  }
 },
 "nbformat": 4,
 "nbformat_minor": 4
}
