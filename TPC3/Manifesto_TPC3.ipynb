{
 "cells": [
  {
   "cell_type": "markdown",
   "metadata": {},
   "source": [
    "# Manifesto TPC3\n",
    "\n",
    "* **Autor**: Sofia Marques Ribas Fernandes A95928\n",
    "* **Indentificador**: TPC2\n",
    "* **Título**: Adivinha o número!\n",
    "* **Supervisor**: José Carlos Ramalho, www.di.uminho.pt/~jcr/\n",
    "* **Data de inicio**: 2021-10-21\n",
    "* **Data de fim**: 2021-10-25\n"
   ]
  },
  {
   "cell_type": "markdown",
   "metadata": {},
   "source": [
    "## Resumo:\n"
   ]
  },
  {
   "cell_type": "markdown",
   "metadata": {},
   "source": [
    "O objetivo do TPC3 é criar uma função bubbleSort que recebe e ordenar uma lista.\n",
    "\n",
    "Primeiro é necessário criar uma função lista_original que vai buscar números aleatórios de 0 até 1000. Através da função input o utilizador diz o tamanho que deseja que a lista_original tenha. É através do ciclo while que vão sendo adicionados os números aleatórios à lista. \n",
    "\n",
    "Agora que temos a nossa lista_original, podemos começar a ordená-la. Para isso criamos a função bubbleSort que vai ter dois ciclos for: \n",
    "* O primeiro, o mais exterior, vai limitar a parte desordenada da lista, ou seja, o nossa variável i numa fase inicial vai ter o tamanho da lista, mas na iteração seguinte vai diminuir o tamanho em um (-1), porque vamos progressivamente ter mais um elemento no sítio certo.\n",
    "* No segundo vamos ter uma outra variável,j, que vai percorrer a lista \"empurrando\" o elemento maior até à posição i. Para tal, criamos uma condição. Se o elemento da posição j for maior que o elemento seguinte a iteração prossegue para o elemento seguinte, criando-se uma sequência de comparações.\n",
    "\n",
    "A lista vai ser percorrida duas vezes ficando ordenada. "
   ]
  }
 ],
 "metadata": {
  "kernelspec": {
   "display_name": "Python 3",
   "language": "python",
   "name": "python3"
  },
  "language_info": {
   "codemirror_mode": {
    "name": "ipython",
    "version": 3
   },
   "file_extension": ".py",
   "mimetype": "text/x-python",
   "name": "python",
   "nbconvert_exporter": "python",
   "pygments_lexer": "ipython3",
   "version": "3.8.3"
  }
 },
 "nbformat": 4,
 "nbformat_minor": 4
}
