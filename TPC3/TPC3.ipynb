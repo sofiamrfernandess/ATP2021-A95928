{
 "cells": [
  {
   "cell_type": "code",
   "execution_count": null,
   "metadata": {},
   "outputs": [],
   "source": [
    "def lista_original():\n",
    "    from random import randrange  \n",
    "    lista_original= []\n",
    "    a=int(input(\"Introduza o número de elementos da lista: \"))\n",
    "    i=1\n",
    "    while len(lista_original)<a:\n",
    "        elemento= randrange(0,1001)\n",
    "        lista_original.append(elemento)\n",
    "        i=i+1\n",
    "    return lista_original\n",
    "\n",
    "lista= lista_original()\n",
    "print(lista)\n",
    "\n",
    "def bubbleSort(lista):\n",
    "    \n",
    "    for i in range(len(lista)-1,-1,-1):\n",
    "        for j in range(i):\n",
    "            \n",
    "            if lista[j]>lista[j+1]:\n",
    "               posicao=lista[j]\n",
    "               lista[j]=lista[j+1]\n",
    "               lista[j+1]=posicao\n",
    "            \n",
    "\n",
    "bubbleSort(lista)\n",
    "print(lista)\n",
    "                   "
   ]
  }
 ],
 "metadata": {
  "kernelspec": {
   "display_name": "Python 3",
   "language": "python",
   "name": "python3"
  },
  "language_info": {
   "codemirror_mode": {
    "name": "ipython",
    "version": 3
   },
   "file_extension": ".py",
   "mimetype": "text/x-python",
   "name": "python",
   "nbconvert_exporter": "python",
   "pygments_lexer": "ipython3",
   "version": "3.8.3"
  }
 },
 "nbformat": 4,
 "nbformat_minor": 4
}
