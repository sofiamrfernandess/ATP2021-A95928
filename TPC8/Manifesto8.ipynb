{
 "cells": [
  {
   "cell_type": "markdown",
   "metadata": {},
   "source": [
    "TPC8\n",
    "Keyname: TPC8\n",
    "\n",
    "Título: Manipulação de base de dados\n",
    "\n",
    "Data de início: 2021/12/06\n",
    "\n",
    "Data de finalização: 2021/12/09\n",
    "\n",
    "Supervisor: José Carlos Leite Ramalho, (www.di.uminho.pt/~jcr/)\n",
    "\n",
    "Autor: Filipa Alexandra Cardoso Ribeiro\n",
    "\n",
    "Resumo: Conclusão do trabalho desenvolvido na aula. Este aplicado à leitura e ao processamento de datasets, analisando e organizando a informação contida no mesmo.Criação de uma interface gráfica.\n",
    "\n",
    "# Manifesto TPC8\n",
    "\n",
    "* **Autor**: Sofia Marques Ribas Fernandes A95928\n",
    "* **Indentificador**: TPC8\n",
    "* **Título**: Manipulação de base de dados\n",
    "* **Supervisor**: José Carlos Ramalho, www.di.uminho.pt/~jcr/\n",
    "* **Data de inicio**: 2021-10-21\n",
    "* **Data de fim**: 2021-10-25"
   ]
  }
 ],
 "metadata": {
  "kernelspec": {
   "display_name": "Python 3",
   "language": "python",
   "name": "python3"
  },
  "language_info": {
   "codemirror_mode": {
    "name": "ipython",
    "version": 3
   },
   "file_extension": ".py",
   "mimetype": "text/x-python",
   "name": "python",
   "nbconvert_exporter": "python",
   "pygments_lexer": "ipython3",
   "version": "3.8.3"
  }
 },
 "nbformat": 4,
 "nbformat_minor": 4
}
