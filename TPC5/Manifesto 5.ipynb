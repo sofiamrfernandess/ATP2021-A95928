{
 "cells": [
  {
   "cell_type": "markdown",
   "metadata": {},
   "source": [
    "# Manifesto TPC5\n",
    "\n",
    "* **Autor**: Sofia Marques Ribas Fernandes A95928\n",
    "* **Indentificador**: TPC5\n",
    "* **Título**: Polinómios\n",
    "* **Supervisor**: José Carlos Ramalho, www.di.uminho.pt/~jcr/\n",
    "* **Data de inicio**: 2021-11-11\n",
    "* **Data de fim**: 2021-11-12"
   ]
  },
  {
   "cell_type": "markdown",
   "metadata": {},
   "source": [
    "## Resumo:"
   ]
  },
  {
   "cell_type": "markdown",
   "metadata": {},
   "source": [
    "Trata-se de um algoritmo que permite criar um polinómio, calcular o seu grau, calcular um ponto do polinómio, calcular a derivada do polinómio e simplificar o polinómio. Dentro deste algoritmo, ainda permite apresentar uma tabela, isto é, num intervalo selecionado pelo utilizador.\n",
    "\n"
   ]
  }
 ],
 "metadata": {
  "kernelspec": {
   "display_name": "Python 3",
   "language": "python",
   "name": "python3"
  },
  "language_info": {
   "codemirror_mode": {
    "name": "ipython",
    "version": 3
   },
   "file_extension": ".py",
   "mimetype": "text/x-python",
   "name": "python",
   "nbconvert_exporter": "python",
   "pygments_lexer": "ipython3",
   "version": "3.8.3"
  }
 },
 "nbformat": 4,
 "nbformat_minor": 4
}
